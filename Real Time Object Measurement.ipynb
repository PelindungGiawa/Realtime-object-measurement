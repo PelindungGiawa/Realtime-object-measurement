{
 "cells": [
  {
   "cell_type": "code",
   "execution_count": 3,
   "metadata": {},
   "outputs": [],
   "source": [
    "import cv2\n",
    "import numpy as np\n",
    "import python_utils"
   ]
  },
  {
   "cell_type": "code",
   "execution_count": 4,
   "metadata": {},
   "outputs": [
    {
     "ename": "NameError",
     "evalue": "name 'utils' is not defined",
     "output_type": "error",
     "traceback": [
      "\u001b[1;31m---------------------------------------------------------------------------\u001b[0m",
      "\u001b[1;31mNameError\u001b[0m                                 Traceback (most recent call last)",
      "\u001b[1;32m<ipython-input-4-962e8bcd918f>\u001b[0m in \u001b[0;36m<module>\u001b[1;34m\u001b[0m\n\u001b[0;32m     10\u001b[0m     \u001b[1;32melse\u001b[0m\u001b[1;33m:\u001b[0m \u001b[0mimg\u001b[0m \u001b[1;33m=\u001b[0m \u001b[0mcv2\u001b[0m\u001b[1;33m.\u001b[0m\u001b[0mimread\u001b[0m\u001b[1;33m(\u001b[0m\u001b[0mpath\u001b[0m\u001b[1;33m)\u001b[0m\u001b[1;33m\u001b[0m\u001b[1;33m\u001b[0m\u001b[0m\n\u001b[0;32m     11\u001b[0m \u001b[1;33m\u001b[0m\u001b[0m\n\u001b[1;32m---> 12\u001b[1;33m     img, conts = utils.getContours(img,showCanny = True, \n\u001b[0m\u001b[0;32m     13\u001b[0m                                    minArea=50000, filter=4)\n\u001b[0;32m     14\u001b[0m     \u001b[1;32mif\u001b[0m \u001b[0mlen\u001b[0m\u001b[1;33m(\u001b[0m\u001b[0mconts\u001b[0m\u001b[1;33m)\u001b[0m \u001b[1;33m!=\u001b[0m\u001b[1;36m0\u001b[0m\u001b[1;33m:\u001b[0m\u001b[1;33m\u001b[0m\u001b[1;33m\u001b[0m\u001b[0m\n",
      "\u001b[1;31mNameError\u001b[0m: name 'utils' is not defined"
     ]
    }
   ],
   "source": [
    "webcam = False\n",
    "path = '1.jpg'\n",
    "cap = cv2.VideoCapture(0)\n",
    "cap.set (10,160)\n",
    "cap.set (3,1920)\n",
    "cap.set (4,1080)\n",
    "\n",
    "while True : \n",
    "    if webcam: success, img = cap.read()\n",
    "    else: img = cv2.imread(path)\n",
    "        \n",
    "    img, conts = utils.getContours(img,showCanny = True, \n",
    "                                   minArea=50000, filter=4)\n",
    "    if len(conts) !=0:\n",
    "        biggest = conts[0][2]\n",
    "        print(biggest)\n",
    "    \n",
    "    img = cv2.resize(img,(0,0), None, 0.5, 0.5)         \n",
    "        \n",
    "    utils.getContour(img,showCanny=True)\n",
    "    cv2.imshow ('Original',img)\n",
    "    cv2,waitKey(1)"
   ]
  },
  {
   "cell_type": "code",
   "execution_count": null,
   "metadata": {},
   "outputs": [],
   "source": [
    "def getContours(img, cThr=[100,100], showCanny=False,minArea=1000, filter=0):\n",
    "    imgGray = cv2.cvtColor(img, cv2.COLOR_BGR2GRAY)\n",
    "    imgBlur = cv2.GaussianBlur(imgGray,(5,5),1)\n",
    "    imgCanny = cv2.Canny(imgBlur,cThr[0],cThr[1])\n",
    "    kernel = cp.one((5,5))\n",
    "    imgDial = cv2.dilate(imgCanny,kernel,iteration=3)\n",
    "    imgThre = cv2.erode(imgDial,kernel,iteration=2)\n",
    "    if showCanny:cv2.imshow('canny',imgThre)"
   ]
  },
  {
   "cell_type": "code",
   "execution_count": null,
   "metadata": {},
   "outputs": [],
   "source": [
    "    _,contours,_ = cv2.findContours(imgThree,cv2.RETR_ESTERnAL,cv2.CHAIN_APPROX_SIMPLE)\n",
    "    finalContours =[]\n",
    "    for i in contours :\n",
    "        area = cv2.contourArea(i)\n",
    "        if area > minArea :\n",
    "            peri = cv2.arcLength(i, True)\n",
    "            approx = cv2.approxPolyDP(i, 0.02*peri, True)\n",
    "            bbox = cv2.boundingRect(approx)\n",
    "            if filter > 0:\n",
    "                if len(approx) == filter:\n",
    "                    finalContours.append(len(approx),area,approx,bbox,i)\n",
    "                else :\n",
    "                    finalContours.append(len(approx),area,approx,bbox,i)\n",
    "    finalContours = sorted(finalContours, key = lambda x:x[1], reverse = True)\n",
    "    if draw:\n",
    "        for con in finalContours:\n",
    "            cv2.drawContours(img,con[4],-1,(0,0,255),3)\n",
    "    \n",
    "    \n",
    "    "
   ]
  }
 ],
 "metadata": {
  "kernelspec": {
   "display_name": "Python 3",
   "language": "python",
   "name": "python3"
  },
  "language_info": {
   "codemirror_mode": {
    "name": "ipython",
    "version": 3
   },
   "file_extension": ".py",
   "mimetype": "text/x-python",
   "name": "python",
   "nbconvert_exporter": "python",
   "pygments_lexer": "ipython3",
   "version": "3.7.4"
  }
 },
 "nbformat": 4,
 "nbformat_minor": 2
}
